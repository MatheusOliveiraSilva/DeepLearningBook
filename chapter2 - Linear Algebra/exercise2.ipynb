{
 "cells": [
  {
   "cell_type": "markdown",
   "source": [
    "**2. Vector Space Analysis**\n",
    "- Generate two vectors representing pixels of distinct images $(\\(v_1, v_2 \\in \\mathbb{R}^{784}\\))$.\n",
    "- Verify if the vectors are linearly independent by calculating their determinant (or using tools such as orthogonality and basis).\n",
    "- Test vector addition and verify if the result also belongs to the image space."
   ],
   "metadata": {
    "collapsed": false
   },
   "id": "a6d1495bd4797696"
  },
  {
   "cell_type": "code",
   "execution_count": 19,
   "id": "initial_id",
   "metadata": {
    "collapsed": true,
    "ExecuteTime": {
     "end_time": "2024-12-12T23:11:01.391810Z",
     "start_time": "2024-12-12T23:11:00.758755Z"
    }
   },
   "outputs": [
    {
     "data": {
      "text/plain": "<Figure size 640x480 with 1 Axes>",
      "image/png": "[encoded data removed]"
     },
     "metadata": {},
     "output_type": "display_data"
    },
    {
     "data": {
      "text/plain": "<Figure size 640x480 with 1 Axes>",
      "image/png": "[encoded data removed]"
     },
     "metadata": {},
     "output_type": "display_data"
    }
   ],
   "source": [
    "import torch\n",
    "import numpy as np\n",
    "import matplotlib.pyplot as plt\n",
    "from torchvision import datasets, transforms\n",
    "\n",
    "MNIST_path = '../MNIST_data'\n",
    "\n",
    "train_loader = torch.utils.data.DataLoader(\n",
    "    datasets.MNIST(MNIST_path, train=True, download=True,\n",
    "                   transform=transforms.Compose([\n",
    "                       transforms.ToTensor(),\n",
    "                       transforms.Normalize((0.1307,), (0.3081,))\n",
    "                   ])),\n",
    "    batch_size=64, shuffle=True)\n",
    "\n",
    "# get some random training images and their labels, when we use next dataiter it returns the next batch ( we defined as 64 imagens )\n",
    "dataiter = iter(train_loader)\n",
    "images, labels = next(dataiter)\n",
    "\n",
    "img1 = images[0].numpy()\n",
    "img1 = np.transpose(img1, (1, 2, 0))\n",
    "\n",
    "img2 = images[1].numpy()\n",
    "img2 = np.transpose(img2, (1, 2, 0))\n",
    "\n",
    "plt.imshow(img1)\n",
    "plt.show()\n",
    "\n",
    "plt.imshow(img2)\n",
    "plt.show()"
   ]
  },
  {
   "cell_type": "markdown",
   "source": [
    "# To verify if the vectors are linearly independent we could calculate set the determinant of the matrix $A = [v_1, v_2]$. But in this case this results in a 784x2 matrix, so we can check matrix rank, if the rank is 2 then the vectors are linearly independent."
   ],
   "metadata": {
    "collapsed": false
   },
   "id": "feccbdda96c92920"
  },
  {
   "cell_type": "code",
   "outputs": [
    {
     "name": "stdout",
     "output_type": "stream",
     "text": [
      "Matrix rank: 2\n"
     ]
    }
   ],
   "source": [
    "# vectorize the images\n",
    "v1 = np.reshape(img1, (784, 1))\n",
    "v2 = np.reshape(img2, (784, 1))\n",
    "\n",
    "A = np.column_stack((v1, v2))\n",
    "\n",
    "# Calcular o rank da matriz\n",
    "rank = np.linalg.matrix_rank(A)\n",
    "\n",
    "print(f\"Matrix rank: {rank}\")"
   ],
   "metadata": {
    "collapsed": false,
    "ExecuteTime": {
     "end_time": "2024-12-12T23:11:01.415839Z",
     "start_time": "2024-12-12T23:11:01.396593Z"
    }
   },
   "id": "2b99ae8af5fca02b",
   "execution_count": 20
  },
  {
   "cell_type": "markdown",
   "source": [
    "# To test vector addition and verify if the result also belongs to the image space, we could check if the resulting vector is in the image space."
   ],
   "metadata": {
    "collapsed": false
   },
   "id": "9035fc37f0306edd"
  },
  {
   "cell_type": "code",
   "outputs": [
    {
     "name": "stdout",
     "output_type": "stream",
     "text": [
      "O vetor v3 pertence ao subespaço gerado por v1 e v2.\n"
     ]
    }
   ],
   "source": [
    "import numpy as np\n",
    "\n",
    "# sum vectors to obtain v3\n",
    "v3 = v1 + v2\n",
    "\n",
    "A = np.column_stack((v1, v2))\n",
    "\n",
    "# solve linear system A * x = v3\n",
    "solution, residuals, rank, s = np.linalg.lstsq(A, v3, rcond=None)\n",
    "\n",
    "# Verificar se há uma solução exata\n",
    "if np.allclose(A @ solution, v3):\n",
    "    print(\"O vetor v3 pertence ao subespaço gerado por v1 e v2.\")\n",
    "else:\n",
    "    print(\"O vetor v3 NÃO pertence ao subespaço gerado por v1 e v2.\")"
   ],
   "metadata": {
    "collapsed": false,
    "ExecuteTime": {
     "end_time": "2024-12-12T23:11:47.928201Z",
     "start_time": "2024-12-12T23:11:47.879075Z"
    }
   },
   "id": "3e67abc4fed2645f",
   "execution_count": 23
  },
  {
   "cell_type": "code",
   "outputs": [
    {
     "name": "stdout",
     "output_type": "stream",
     "text": [
      "[33.488068 24.652693]\n"
     ]
    }
   ],
   "source": [
    "print(s)"
   ],
   "metadata": {
    "collapsed": false,
    "ExecuteTime": {
     "end_time": "2024-12-12T23:11:48.156664Z",
     "start_time": "2024-12-12T23:11:48.149479Z"
    }
   },
   "id": "9ec83a489022497c",
   "execution_count": 24
  },
  {
   "cell_type": "code",
   "outputs": [],
   "source": [],
   "metadata": {
    "collapsed": false
   },
   "id": "c2d8fffad21f23e8"
  }
 ],
 "metadata": {
  "kernelspec": {
   "display_name": "Python 3",
   "language": "python",
   "name": "python3"
  },
  "language_info": {
   "codemirror_mode": {
    "name": "ipython",
    "version": 2
   },
   "file_extension": ".py",
   "mimetype": "text/x-python",
   "name": "python",
   "nbconvert_exporter": "python",
   "pygments_lexer": "ipython2",
   "version": "2.7.6"
  }
 },
 "nbformat": 4,
 "nbformat_minor": 5
}
